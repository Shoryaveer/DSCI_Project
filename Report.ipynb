{
 "cells": [
  {
   "cell_type": "markdown",
   "id": "e437d5ef-d725-47ef-a10e-92b0be3562c6",
   "metadata": {},
   "source": [
    "# <center>Group 22 Project Report</center>"
   ]
  },
  {
   "cell_type": "markdown",
   "id": "bc2d40cf-4430-4af8-bdfa-6ea16a3f0af0",
   "metadata": {},
   "source": [
    "# <center>Classifier for Sonar Detection of Naval Mines vs Rocks</center>"
   ]
  },
  {
   "cell_type": "markdown",
   "id": "7892d77a-a048-4db2-90a0-fc58d5c0935c",
   "metadata": {},
   "source": [
    "## Indroduction"
   ]
  },
  {
   "cell_type": "markdown",
   "id": "e4529a2b-7692-482b-9e62-2c2bca5618a7",
   "metadata": {},
   "source": [
    "Sonar (short for sound navigation and ranging) is a technique which utilizes sound propagation to develop nautical charts. This tool is most commonly implemented underwater to measure distances and communicate with/detect objects on or below the ocean surface. The focus of this project will be the Solar, Mines vs Rocks data set. The file consists of 111 patterns produced by sonar signals bouncing off a metal cylinder and 97 patterns off of rocks. These signals were obtained via varying aspect angles at 90 degrees (cylinder) and 180 degrees (rock). The broadcasted sonar signal was a frequency-modulated chirp, with increasing frequency. Each pattern is a set of 60 numbers in the range 0.0 to 1.0. The numbers indicate the energy within a specific frequency band, integrated over a certain period of time. The label corresponding to each record contains either the letter “R’ for rock objects or “M” for mines (metal cylinder). The numbers within labels appear in increasing arrangement of aspect angles, but do not encode the angle directly. The problem at hand revolves around the question: “is a specific sonar signal bounced off a metal cylinder or roughly cylindrical rock?”. To address this inquiry, throughout this project, a classification model will be developed to predict metal or rock objects from the sonar return data. "
   ]
  },
  {
   "cell_type": "markdown",
   "id": "9ac1169f-b0dc-4c4f-a60e-15342cd549ad",
   "metadata": {},
   "source": [
    "## Methods"
   ]
  },
  {
   "cell_type": "markdown",
   "id": "7d7b7585-7579-4a3f-a10a-c30343d93fd6",
   "metadata": {},
   "source": [
    "First, we loaded our Sonar Data set in directly from the website via its url; read_csv was used to accomplish this. The dataset from the website does not have column names so we set `col_names` to `FALSE` in the argument. This will assign column names as “X” followed by the number of the column. We did not see any purpose in renaming the individual bands, however, the very last column denotes the “type” so is renamed as such. The `mutate()` and `as_factor()` functions are also implemented to convert our `type` column from a vector object to a statistical categorical variable."
   ]
  },
  {
   "cell_type": "code",
   "execution_count": 1,
   "id": "d62d00e9-b6ec-4676-8fb3-410855fe10e5",
   "metadata": {},
   "outputs": [
    {
     "name": "stderr",
     "output_type": "stream",
     "text": [
      "── \u001b[1mAttaching packages\u001b[22m ─────────────────────────────────────── tidyverse 1.3.1 ──\n",
      "\n",
      "\u001b[32m✔\u001b[39m \u001b[34mggplot2\u001b[39m 3.3.6     \u001b[32m✔\u001b[39m \u001b[34mpurrr  \u001b[39m 0.3.4\n",
      "\u001b[32m✔\u001b[39m \u001b[34mtibble \u001b[39m 3.1.7     \u001b[32m✔\u001b[39m \u001b[34mdplyr  \u001b[39m 1.0.9\n",
      "\u001b[32m✔\u001b[39m \u001b[34mtidyr  \u001b[39m 1.2.0     \u001b[32m✔\u001b[39m \u001b[34mstringr\u001b[39m 1.4.0\n",
      "\u001b[32m✔\u001b[39m \u001b[34mreadr  \u001b[39m 2.1.2     \u001b[32m✔\u001b[39m \u001b[34mforcats\u001b[39m 0.5.1\n",
      "\n",
      "── \u001b[1mConflicts\u001b[22m ────────────────────────────────────────── tidyverse_conflicts() ──\n",
      "\u001b[31m✖\u001b[39m \u001b[34mdplyr\u001b[39m::\u001b[32mfilter()\u001b[39m masks \u001b[34mstats\u001b[39m::filter()\n",
      "\u001b[31m✖\u001b[39m \u001b[34mdplyr\u001b[39m::\u001b[32mlag()\u001b[39m    masks \u001b[34mstats\u001b[39m::lag()\n",
      "\n",
      "── \u001b[1mAttaching packages\u001b[22m ────────────────────────────────────── tidymodels 1.0.0 ──\n",
      "\n",
      "\u001b[32m✔\u001b[39m \u001b[34mbroom       \u001b[39m 1.0.0     \u001b[32m✔\u001b[39m \u001b[34mrsample     \u001b[39m 1.0.0\n",
      "\u001b[32m✔\u001b[39m \u001b[34mdials       \u001b[39m 1.0.0     \u001b[32m✔\u001b[39m \u001b[34mtune        \u001b[39m 1.0.0\n",
      "\u001b[32m✔\u001b[39m \u001b[34minfer       \u001b[39m 1.0.2     \u001b[32m✔\u001b[39m \u001b[34mworkflows   \u001b[39m 1.0.0\n",
      "\u001b[32m✔\u001b[39m \u001b[34mmodeldata   \u001b[39m 1.0.0     \u001b[32m✔\u001b[39m \u001b[34mworkflowsets\u001b[39m 1.0.0\n",
      "\u001b[32m✔\u001b[39m \u001b[34mparsnip     \u001b[39m 1.0.0     \u001b[32m✔\u001b[39m \u001b[34myardstick   \u001b[39m 1.0.0\n",
      "\u001b[32m✔\u001b[39m \u001b[34mrecipes     \u001b[39m 1.0.1     \n",
      "\n",
      "── \u001b[1mConflicts\u001b[22m ───────────────────────────────────────── tidymodels_conflicts() ──\n",
      "\u001b[31m✖\u001b[39m \u001b[34mscales\u001b[39m::\u001b[32mdiscard()\u001b[39m masks \u001b[34mpurrr\u001b[39m::discard()\n",
      "\u001b[31m✖\u001b[39m \u001b[34mdplyr\u001b[39m::\u001b[32mfilter()\u001b[39m   masks \u001b[34mstats\u001b[39m::filter()\n",
      "\u001b[31m✖\u001b[39m \u001b[34mrecipes\u001b[39m::\u001b[32mfixed()\u001b[39m  masks \u001b[34mstringr\u001b[39m::fixed()\n",
      "\u001b[31m✖\u001b[39m \u001b[34mdplyr\u001b[39m::\u001b[32mlag()\u001b[39m      masks \u001b[34mstats\u001b[39m::lag()\n",
      "\u001b[31m✖\u001b[39m \u001b[34myardstick\u001b[39m::\u001b[32mspec()\u001b[39m masks \u001b[34mreadr\u001b[39m::spec()\n",
      "\u001b[31m✖\u001b[39m \u001b[34mrecipes\u001b[39m::\u001b[32mstep()\u001b[39m   masks \u001b[34mstats\u001b[39m::step()\n",
      "\u001b[34m•\u001b[39m Use \u001b[32mtidymodels_prefer()\u001b[39m to resolve common conflicts.\n",
      "\n"
     ]
    }
   ],
   "source": [
    "library(tidyverse)\n",
    "library(tidymodels)"
   ]
  },
  {
   "cell_type": "code",
   "execution_count": 2,
   "id": "303de1ad-4583-4547-9d77-c4faa59e9c33",
   "metadata": {},
   "outputs": [
    {
     "name": "stderr",
     "output_type": "stream",
     "text": [
      "\u001b[1mRows: \u001b[22m\u001b[34m208\u001b[39m \u001b[1mColumns: \u001b[22m\u001b[34m61\u001b[39m\n",
      "\u001b[36m──\u001b[39m \u001b[1mColumn specification\u001b[22m \u001b[36m────────────────────────────────────────────────────────\u001b[39m\n",
      "\u001b[1mDelimiter:\u001b[22m \",\"\n",
      "\u001b[31mchr\u001b[39m  (1): X61\n",
      "\u001b[32mdbl\u001b[39m (60): X1, X2, X3, X4, X5, X6, X7, X8, X9, X10, X11, X12, X13, X14, X15, ...\n",
      "\n",
      "\u001b[36mℹ\u001b[39m Use `spec()` to retrieve the full column specification for this data.\n",
      "\u001b[36mℹ\u001b[39m Specify the column types or set `show_col_types = FALSE` to quiet this message.\n"
     ]
    }
   ],
   "source": [
    "sonar_url <- \"https://archive.ics.uci.edu/ml/machine-learning-databases/undocumented/connectionist-bench/sonar/sonar.all-data\" \n",
    "\n",
    "# does rename successfully but does not show in the red box\n",
    "sonar_data <- read_csv(sonar_url, col_names = FALSE) |> \n",
    "    rename(type = X61) |>\n",
    "    mutate(type = as_factor(type))"
   ]
  },
  {
   "cell_type": "markdown",
   "id": "1d72b139-3d82-4fa6-be39-d93d24ea3095",
   "metadata": {
    "tags": []
   },
   "source": [
    "### Wrangling data"
   ]
  },
  {
   "cell_type": "markdown",
   "id": "ef392d01-080e-4e33-add0-befcbdfba69a",
   "metadata": {},
   "source": [
    "Our initial plan was to wrangle the dataset to have three columns: **band**(a factor in range from X1 to X60), **value**(0.0 to 1.0) and **type**(will be a factor; rocks(R) or mines(M)). However, after talking to the TA and facing difficulty in choosing appropriate inputs/predictors, we have decided to leave the dataset as is and have **bands** ranging from **X1** to **X60** in separate columns. However, we can increase out accuracy by reducing predictors as seen later.\n"
   ]
  },
  {
   "cell_type": "code",
   "execution_count": 3,
   "id": "de053db8-d20c-4ff5-b4a3-3bc86cd6f576",
   "metadata": {},
   "outputs": [],
   "source": [
    "# shuffling data since it is arranged as R then M\n",
    "set.seed(9999)\n",
    "sonar_set <- sonar_data[sample(1:nrow(sonar_data)), ]"
   ]
  },
  {
   "cell_type": "code",
   "execution_count": 4,
   "id": "56209352-8b06-4eb6-98ee-a68e7830223f",
   "metadata": {},
   "outputs": [],
   "source": [
    "# splitting the data\n",
    "\n",
    "sonar_split <- initial_split(sonar_set, prop = 0.75, strata = type)\n",
    "sonar_train <- training(sonar_split)\n",
    "sonar_test <- testing(sonar_split)"
   ]
  },
  {
   "cell_type": "markdown",
   "id": "9e73cc71-0659-47b5-8216-4dc8685873cf",
   "metadata": {},
   "source": [
    "- The `initial_split` function is used to create training and testing sets\n",
    "- It is specified that `prop = 0.75` so that 75% of our original data set ends up in the training set\n",
    "- The `strata` argument is set to the categorical label variable (here, type) to ensure that the training and testing subsets contain the right proportions of each category of observation\n",
    "- The `training()` and `testing()` functions extract the training and testing data sets into two separate data frames"
   ]
  },
  {
   "cell_type": "markdown",
   "id": "7d02e95c-1832-4fc8-a646-3fa1528949e7",
   "metadata": {
    "tags": []
   },
   "source": [
    "### Exploratory data analysis(tables)"
   ]
  },
  {
   "cell_type": "markdown",
   "id": "2791c355-d76a-40dc-8613-a3a661833a52",
   "metadata": {},
   "source": [
    "**Summary of exploration below all the code cells**\n",
    "- Here in some cases we used `sonar_set` to verify the data collected from the web"
   ]
  },
  {
   "cell_type": "code",
   "execution_count": 5,
   "id": "a421e3a6-0bb1-4e5f-bfe7-60b1d22bc083",
   "metadata": {
    "tags": []
   },
   "outputs": [
    {
     "data": {
      "text/html": [
       "<table class=\"dataframe\">\n",
       "<caption>A tibble: 2 × 2</caption>\n",
       "<thead>\n",
       "\t<tr><th scope=col>type</th><th scope=col>n()</th></tr>\n",
       "\t<tr><th scope=col>&lt;fct&gt;</th><th scope=col>&lt;int&gt;</th></tr>\n",
       "</thead>\n",
       "<tbody>\n",
       "\t<tr><td>R</td><td> 97</td></tr>\n",
       "\t<tr><td>M</td><td>111</td></tr>\n",
       "</tbody>\n",
       "</table>\n"
      ],
      "text/latex": [
       "A tibble: 2 × 2\n",
       "\\begin{tabular}{ll}\n",
       " type & n()\\\\\n",
       " <fct> & <int>\\\\\n",
       "\\hline\n",
       "\t R &  97\\\\\n",
       "\t M & 111\\\\\n",
       "\\end{tabular}\n"
      ],
      "text/markdown": [
       "\n",
       "A tibble: 2 × 2\n",
       "\n",
       "| type &lt;fct&gt; | n() &lt;int&gt; |\n",
       "|---|---|\n",
       "| R |  97 |\n",
       "| M | 111 |\n",
       "\n"
      ],
      "text/plain": [
       "  type n()\n",
       "1 R     97\n",
       "2 M    111"
      ]
     },
     "metadata": {},
     "output_type": "display_data"
    }
   ],
   "source": [
    "# verifying if the set matches the description\n",
    "verify_count <- sonar_set |> \n",
    "    group_by(type)|>\n",
    "    summarize(n())\n",
    "\n",
    "verify_count"
   ]
  },
  {
   "cell_type": "markdown",
   "id": "d2bf853d-4cc6-410f-8e24-4c120d045294",
   "metadata": {},
   "source": [
    "- We matched the number of all the rocks and mines with the descriptions; matches"
   ]
  },
  {
   "cell_type": "code",
   "execution_count": 6,
   "id": "827faa80-665d-4398-8965-ea3653b19ea5",
   "metadata": {},
   "outputs": [
    {
     "data": {
      "text/html": [
       "<style>\n",
       ".dl-inline {width: auto; margin:0; padding: 0}\n",
       ".dl-inline>dt, .dl-inline>dd {float: none; width: auto; display: inline-block}\n",
       ".dl-inline>dt::after {content: \":\\0020\"; padding-right: .5ex}\n",
       ".dl-inline>dt:not(:first-of-type) {padding-left: .5ex}\n",
       "</style><dl class=dl-inline><dt>X1</dt><dd>0</dd><dt>X2</dt><dd>0</dd><dt>X3</dt><dd>0</dd><dt>X4</dt><dd>0</dd><dt>X5</dt><dd>0</dd><dt>X6</dt><dd>0</dd><dt>X7</dt><dd>0</dd><dt>X8</dt><dd>0</dd><dt>X9</dt><dd>0</dd><dt>X10</dt><dd>0</dd><dt>X11</dt><dd>0</dd><dt>X12</dt><dd>0</dd><dt>X13</dt><dd>0</dd><dt>X14</dt><dd>0</dd><dt>X15</dt><dd>0</dd><dt>X16</dt><dd>0</dd><dt>X17</dt><dd>0</dd><dt>X18</dt><dd>0</dd><dt>X19</dt><dd>0</dd><dt>X20</dt><dd>0</dd><dt>X21</dt><dd>0</dd><dt>X22</dt><dd>0</dd><dt>X23</dt><dd>0</dd><dt>X24</dt><dd>0</dd><dt>X25</dt><dd>0</dd><dt>X26</dt><dd>0</dd><dt>X27</dt><dd>0</dd><dt>X28</dt><dd>0</dd><dt>X29</dt><dd>0</dd><dt>X30</dt><dd>0</dd><dt>X31</dt><dd>0</dd><dt>X32</dt><dd>0</dd><dt>X33</dt><dd>0</dd><dt>X34</dt><dd>0</dd><dt>X35</dt><dd>0</dd><dt>X36</dt><dd>0</dd><dt>X37</dt><dd>0</dd><dt>X38</dt><dd>0</dd><dt>X39</dt><dd>0</dd><dt>X40</dt><dd>0</dd><dt>X41</dt><dd>0</dd><dt>X42</dt><dd>0</dd><dt>X43</dt><dd>0</dd><dt>X44</dt><dd>0</dd><dt>X45</dt><dd>0</dd><dt>X46</dt><dd>0</dd><dt>X47</dt><dd>0</dd><dt>X48</dt><dd>0</dd><dt>X49</dt><dd>0</dd><dt>X50</dt><dd>0</dd><dt>X51</dt><dd>0</dd><dt>X52</dt><dd>0</dd><dt>X53</dt><dd>0</dd><dt>X54</dt><dd>0</dd><dt>X55</dt><dd>0</dd><dt>X56</dt><dd>0</dd><dt>X57</dt><dd>0</dd><dt>X58</dt><dd>0</dd><dt>X59</dt><dd>0</dd><dt>X60</dt><dd>0</dd><dt>type</dt><dd>0</dd></dl>\n"
      ],
      "text/latex": [
       "\\begin{description*}\n",
       "\\item[X1] 0\n",
       "\\item[X2] 0\n",
       "\\item[X3] 0\n",
       "\\item[X4] 0\n",
       "\\item[X5] 0\n",
       "\\item[X6] 0\n",
       "\\item[X7] 0\n",
       "\\item[X8] 0\n",
       "\\item[X9] 0\n",
       "\\item[X10] 0\n",
       "\\item[X11] 0\n",
       "\\item[X12] 0\n",
       "\\item[X13] 0\n",
       "\\item[X14] 0\n",
       "\\item[X15] 0\n",
       "\\item[X16] 0\n",
       "\\item[X17] 0\n",
       "\\item[X18] 0\n",
       "\\item[X19] 0\n",
       "\\item[X20] 0\n",
       "\\item[X21] 0\n",
       "\\item[X22] 0\n",
       "\\item[X23] 0\n",
       "\\item[X24] 0\n",
       "\\item[X25] 0\n",
       "\\item[X26] 0\n",
       "\\item[X27] 0\n",
       "\\item[X28] 0\n",
       "\\item[X29] 0\n",
       "\\item[X30] 0\n",
       "\\item[X31] 0\n",
       "\\item[X32] 0\n",
       "\\item[X33] 0\n",
       "\\item[X34] 0\n",
       "\\item[X35] 0\n",
       "\\item[X36] 0\n",
       "\\item[X37] 0\n",
       "\\item[X38] 0\n",
       "\\item[X39] 0\n",
       "\\item[X40] 0\n",
       "\\item[X41] 0\n",
       "\\item[X42] 0\n",
       "\\item[X43] 0\n",
       "\\item[X44] 0\n",
       "\\item[X45] 0\n",
       "\\item[X46] 0\n",
       "\\item[X47] 0\n",
       "\\item[X48] 0\n",
       "\\item[X49] 0\n",
       "\\item[X50] 0\n",
       "\\item[X51] 0\n",
       "\\item[X52] 0\n",
       "\\item[X53] 0\n",
       "\\item[X54] 0\n",
       "\\item[X55] 0\n",
       "\\item[X56] 0\n",
       "\\item[X57] 0\n",
       "\\item[X58] 0\n",
       "\\item[X59] 0\n",
       "\\item[X60] 0\n",
       "\\item[type] 0\n",
       "\\end{description*}\n"
      ],
      "text/markdown": [
       "X1\n",
       ":   0X2\n",
       ":   0X3\n",
       ":   0X4\n",
       ":   0X5\n",
       ":   0X6\n",
       ":   0X7\n",
       ":   0X8\n",
       ":   0X9\n",
       ":   0X10\n",
       ":   0X11\n",
       ":   0X12\n",
       ":   0X13\n",
       ":   0X14\n",
       ":   0X15\n",
       ":   0X16\n",
       ":   0X17\n",
       ":   0X18\n",
       ":   0X19\n",
       ":   0X20\n",
       ":   0X21\n",
       ":   0X22\n",
       ":   0X23\n",
       ":   0X24\n",
       ":   0X25\n",
       ":   0X26\n",
       ":   0X27\n",
       ":   0X28\n",
       ":   0X29\n",
       ":   0X30\n",
       ":   0X31\n",
       ":   0X32\n",
       ":   0X33\n",
       ":   0X34\n",
       ":   0X35\n",
       ":   0X36\n",
       ":   0X37\n",
       ":   0X38\n",
       ":   0X39\n",
       ":   0X40\n",
       ":   0X41\n",
       ":   0X42\n",
       ":   0X43\n",
       ":   0X44\n",
       ":   0X45\n",
       ":   0X46\n",
       ":   0X47\n",
       ":   0X48\n",
       ":   0X49\n",
       ":   0X50\n",
       ":   0X51\n",
       ":   0X52\n",
       ":   0X53\n",
       ":   0X54\n",
       ":   0X55\n",
       ":   0X56\n",
       ":   0X57\n",
       ":   0X58\n",
       ":   0X59\n",
       ":   0X60\n",
       ":   0type\n",
       ":   0\n",
       "\n"
      ],
      "text/plain": [
       "  X1   X2   X3   X4   X5   X6   X7   X8   X9  X10  X11  X12  X13  X14  X15  X16 \n",
       "   0    0    0    0    0    0    0    0    0    0    0    0    0    0    0    0 \n",
       " X17  X18  X19  X20  X21  X22  X23  X24  X25  X26  X27  X28  X29  X30  X31  X32 \n",
       "   0    0    0    0    0    0    0    0    0    0    0    0    0    0    0    0 \n",
       " X33  X34  X35  X36  X37  X38  X39  X40  X41  X42  X43  X44  X45  X46  X47  X48 \n",
       "   0    0    0    0    0    0    0    0    0    0    0    0    0    0    0    0 \n",
       " X49  X50  X51  X52  X53  X54  X55  X56  X57  X58  X59  X60 type \n",
       "   0    0    0    0    0    0    0    0    0    0    0    0    0 "
      ]
     },
     "metadata": {},
     "output_type": "display_data"
    }
   ],
   "source": [
    "empty_obs <- colSums(is.na(sonar_set))\n",
    "\n",
    "empty_obs"
   ]
  },
  {
   "cell_type": "markdown",
   "id": "940333c8-0310-4224-9538-f100ec8b9482",
   "metadata": {},
   "source": [
    "- We checked for empty cells in column; no empty cells"
   ]
  },
  {
   "cell_type": "code",
   "execution_count": 7,
   "id": "dcc356bf-71a2-480a-a7b4-c733065e7c83",
   "metadata": {},
   "outputs": [
    {
     "data": {
      "text/html": [
       "<table class=\"dataframe\">\n",
       "<caption>A data.frame: 1 × 10</caption>\n",
       "<thead>\n",
       "\t<tr><th scope=col>X1</th><th scope=col>X2</th><th scope=col>X3</th><th scope=col>X4</th><th scope=col>X5</th><th scope=col>X6</th><th scope=col>X7</th><th scope=col>X8</th><th scope=col>X9</th><th scope=col>X10</th></tr>\n",
       "\t<tr><th scope=col>&lt;dbl&gt;</th><th scope=col>&lt;dbl&gt;</th><th scope=col>&lt;dbl&gt;</th><th scope=col>&lt;dbl&gt;</th><th scope=col>&lt;dbl&gt;</th><th scope=col>&lt;dbl&gt;</th><th scope=col>&lt;dbl&gt;</th><th scope=col>&lt;dbl&gt;</th><th scope=col>&lt;dbl&gt;</th><th scope=col>&lt;dbl&gt;</th></tr>\n",
       "</thead>\n",
       "<tbody>\n",
       "\t<tr><td>0.02290278</td><td>0.03145833</td><td>0.0371</td><td>0.04174583</td><td>0.06115833</td><td>0.09964444</td><td>0.1164764</td><td>0.12115</td><td>0.1367</td><td>0.1612903</td></tr>\n",
       "</tbody>\n",
       "</table>\n"
      ],
      "text/latex": [
       "A data.frame: 1 × 10\n",
       "\\begin{tabular}{llllllllll}\n",
       " X1 & X2 & X3 & X4 & X5 & X6 & X7 & X8 & X9 & X10\\\\\n",
       " <dbl> & <dbl> & <dbl> & <dbl> & <dbl> & <dbl> & <dbl> & <dbl> & <dbl> & <dbl>\\\\\n",
       "\\hline\n",
       "\t 0.02290278 & 0.03145833 & 0.0371 & 0.04174583 & 0.06115833 & 0.09964444 & 0.1164764 & 0.12115 & 0.1367 & 0.1612903\\\\\n",
       "\\end{tabular}\n"
      ],
      "text/markdown": [
       "\n",
       "A data.frame: 1 × 10\n",
       "\n",
       "| X1 &lt;dbl&gt; | X2 &lt;dbl&gt; | X3 &lt;dbl&gt; | X4 &lt;dbl&gt; | X5 &lt;dbl&gt; | X6 &lt;dbl&gt; | X7 &lt;dbl&gt; | X8 &lt;dbl&gt; | X9 &lt;dbl&gt; | X10 &lt;dbl&gt; |\n",
       "|---|---|---|---|---|---|---|---|---|---|\n",
       "| 0.02290278 | 0.03145833 | 0.0371 | 0.04174583 | 0.06115833 | 0.09964444 | 0.1164764 | 0.12115 | 0.1367 | 0.1612903 |\n",
       "\n"
      ],
      "text/plain": [
       "  X1         X2         X3     X4         X5         X6         X7       \n",
       "1 0.02290278 0.03145833 0.0371 0.04174583 0.06115833 0.09964444 0.1164764\n",
       "  X8      X9     X10      \n",
       "1 0.12115 0.1367 0.1612903"
      ]
     },
     "metadata": {},
     "output_type": "display_data"
    }
   ],
   "source": [
    "rock_10_band_mean <- sonar_train |>\n",
    "    filter(type == \"R\")|>\n",
    "    select(X1:X10) |>\n",
    "    map(mean) |>\n",
    "    data.frame()\n",
    "rock_10_band_mean"
   ]
  },
  {
   "cell_type": "code",
   "execution_count": 8,
   "id": "e15c9a86-4821-48be-bd36-73adafa13a6c",
   "metadata": {},
   "outputs": [
    {
     "data": {
      "text/html": [
       "<table class=\"dataframe\">\n",
       "<caption>A data.frame: 1 × 10</caption>\n",
       "<thead>\n",
       "\t<tr><th scope=col>X1</th><th scope=col>X2</th><th scope=col>X3</th><th scope=col>X4</th><th scope=col>X5</th><th scope=col>X6</th><th scope=col>X7</th><th scope=col>X8</th><th scope=col>X9</th><th scope=col>X10</th></tr>\n",
       "\t<tr><th scope=col>&lt;dbl&gt;</th><th scope=col>&lt;dbl&gt;</th><th scope=col>&lt;dbl&gt;</th><th scope=col>&lt;dbl&gt;</th><th scope=col>&lt;dbl&gt;</th><th scope=col>&lt;dbl&gt;</th><th scope=col>&lt;dbl&gt;</th><th scope=col>&lt;dbl&gt;</th><th scope=col>&lt;dbl&gt;</th><th scope=col>&lt;dbl&gt;</th></tr>\n",
       "</thead>\n",
       "<tbody>\n",
       "\t<tr><td>0.03203976</td><td>0.04141807</td><td>0.04771446</td><td>0.06454699</td><td>0.08704578</td><td>0.1023747</td><td>0.1213422</td><td>0.1337398</td><td>0.197594</td><td>0.2370578</td></tr>\n",
       "</tbody>\n",
       "</table>\n"
      ],
      "text/latex": [
       "A data.frame: 1 × 10\n",
       "\\begin{tabular}{llllllllll}\n",
       " X1 & X2 & X3 & X4 & X5 & X6 & X7 & X8 & X9 & X10\\\\\n",
       " <dbl> & <dbl> & <dbl> & <dbl> & <dbl> & <dbl> & <dbl> & <dbl> & <dbl> & <dbl>\\\\\n",
       "\\hline\n",
       "\t 0.03203976 & 0.04141807 & 0.04771446 & 0.06454699 & 0.08704578 & 0.1023747 & 0.1213422 & 0.1337398 & 0.197594 & 0.2370578\\\\\n",
       "\\end{tabular}\n"
      ],
      "text/markdown": [
       "\n",
       "A data.frame: 1 × 10\n",
       "\n",
       "| X1 &lt;dbl&gt; | X2 &lt;dbl&gt; | X3 &lt;dbl&gt; | X4 &lt;dbl&gt; | X5 &lt;dbl&gt; | X6 &lt;dbl&gt; | X7 &lt;dbl&gt; | X8 &lt;dbl&gt; | X9 &lt;dbl&gt; | X10 &lt;dbl&gt; |\n",
       "|---|---|---|---|---|---|---|---|---|---|\n",
       "| 0.03203976 | 0.04141807 | 0.04771446 | 0.06454699 | 0.08704578 | 0.1023747 | 0.1213422 | 0.1337398 | 0.197594 | 0.2370578 |\n",
       "\n"
      ],
      "text/plain": [
       "  X1         X2         X3         X4         X5         X6        X7       \n",
       "1 0.03203976 0.04141807 0.04771446 0.06454699 0.08704578 0.1023747 0.1213422\n",
       "  X8        X9       X10      \n",
       "1 0.1337398 0.197594 0.2370578"
      ]
     },
     "metadata": {},
     "output_type": "display_data"
    }
   ],
   "source": [
    "mine_10_band_mean <- sonar_train |>\n",
    "    filter(type == \"M\")|>\n",
    "    select(X1:X10) |>\n",
    "    map(mean) |>\n",
    "    data.frame()\n",
    "mine_10_band_mean"
   ]
  },
  {
   "cell_type": "markdown",
   "id": "4a661f61-3475-4552-834a-6e5ad8a4a9d3",
   "metadata": {},
   "source": [
    "- Means of the first 10 bands of each type; both have an increasing trend but stronger in mines. Further relation explored ahead."
   ]
  },
  {
   "cell_type": "markdown",
   "id": "7a7d4d4f-1b2e-4a38-bf59-e388a41efaef",
   "metadata": {},
   "source": [
    "### Exploratory data analysis (visual)"
   ]
  },
  {
   "cell_type": "markdown",
   "id": "58948292-7890-4359-8a05-86680f116e7e",
   "metadata": {},
   "source": [
    "- We want to see if the two types have distinct distributions, so that we can distinguish between them through knn model analysis.\n"
   ]
  },
  {
   "cell_type": "code",
   "execution_count": 9,
   "id": "f94dcfa3-0d31-47c8-a149-7bd045e87b07",
   "metadata": {},
   "outputs": [],
   "source": [
    "rock_mean <- sonar_train |>\n",
    "    filter(type == \"R\")|>\n",
    "    select(-type) |>\n",
    "    map(mean) |>\n",
    "    data.frame()\n",
    "rock_mean[\"type\"] <- c(\"R\")\n",
    "\n",
    "mine_mean <- sonar_train |>\n",
    "    filter(type == \"M\")|>\n",
    "    select(-type) |>\n",
    "    map(mean) |>\n",
    "    data.frame()\n",
    "mine_mean[\"type\"] <- c(\"M\")\n",
    "\n",
    "plot_data <- rbind(rock_mean, mine_mean) |>\n",
    "    pivot_longer(X1:X60, names_to = \"band\", values_to = \"value\")|>\n",
    "    mutate(band = as_factor(band))"
   ]
  },
  {
   "cell_type": "markdown",
   "id": "e78eaf0a-ba38-478a-b282-9d0968fb3e98",
   "metadata": {},
   "source": [
    "The data frames `rock_mean` and `mine_mean` were created by:\n",
    "- filtering the `sonar_train` data based on the `type` column (\"R\" for rock and \"M\" for mine)\n",
    "- calculating the mean of each column using the `map(mean)` function\n",
    "- converting the results into data frames with data.frame()\n",
    "\n",
    "The `rock_mean` and `mine_mean` data frames were then given a `type` column with values \"R\" for `rock_mean` and \"M\" for `mine_mean`. \n",
    "\n",
    "The `plot_data` data frame was created by combining the `rock_mean` and `mine_mean` data frames using `rbind()` and tidied. The `band` column was also converted into a factor using `mutate`."
   ]
  },
  {
   "cell_type": "code",
   "execution_count": 10,
   "id": "e50b76c6-1627-484d-9540-14f2fc37331f",
   "metadata": {},
   "outputs": [
    {
     "data": {
      "image/png": "[encoded data removed]",
      "text/plain": [
       "plot without title"
      ]
     },
     "metadata": {
      "image/png": {
       "height": 420,
       "width": 780
      }
     },
     "output_type": "display_data"
    }
   ],
   "source": [
    "options(repr.plot.width = 13) \n",
    "# plot_data\n",
    "mean_plot <- plot_data |>\n",
    "    ggplot(aes(x = band, y = value, color = as_factor(type))) +\n",
    "    geom_point() + \n",
    "    facet_grid(cols = vars(type), labeller = as_labeller(c(M = \"Mine\", R = \"Rock\"))) +\n",
    "    labs(x = \"Band(in order)\", y = \"Average Value(0.0 to 1.0)\", color = \"Legend\") +\n",
    "    ylim(0.0, 1.0)+\n",
    "# scale_x_continuous(limits = c(1, 60))+\n",
    "    theme(axis.text.x=element_blank(),\n",
    "        axis.ticks.x=element_blank(), \n",
    "        text = element_text(size=20))\n",
    "mean_plot"
   ]
  },
  {
   "cell_type": "markdown",
   "id": "d730f7c9-df25-4c17-884b-02b4d74c0d52",
   "metadata": {},
   "source": [
    "The combined plot_data data frame was visualized as a scatterplot by:\n",
    "\n",
    "a. Plotting the `band` colomn along the x-axis against its corresponding average value ranging from 0.0 to 1.0 along the y-axis by the `aes()` function\n",
    "\n",
    "b. Using `color = as_factor(type)` to specify graphic colors according to the factor `type` (i.e. \"R\" or \"M\")\n",
    "\n",
    "c. Creating a multi-axis grid with subplots illustrating the distribution of separate variables (\"Mine\" and \"Rock\") of the data set using `facet_grid()`\n",
    "\n",
    "##### Observation\n",
    "- The last 11 bands do not show significant difference in pattern or trend of between rocks and mines. \n",
    "- We can omit these last 11 bands; we can also verify this through accuracy result below"
   ]
  },
  {
   "cell_type": "code",
   "execution_count": 11,
   "id": "56b76a56-2343-4857-a6dd-196de31a489b",
   "metadata": {},
   "outputs": [],
   "source": [
    "#recipe, spec and cross validation spec\n",
    "recipe_full <- recipe(type ~ ., data = sonar_train)|>\n",
    "    step_scale(all_predictors()) |>\n",
    "    step_center(all_predictors())\n",
    "\n",
    "recipe_reduced <- recipe(type ~ ., data = sonar_train) |> \n",
    "    step_rm(X50:X60) |> \n",
    "    step_scale(all_predictors()) |>\n",
    "    step_center(all_predictors())\n",
    "\n",
    "knn_spec <- nearest_neighbor(weight_func = \"rectangular\", neighbors = tune()) |> \n",
    "    set_engine(\"kknn\") |> \n",
    "    set_mode(\"classification\")\n",
    "\n",
    "# 5 fold validation since the dataset is small\n",
    "sonar_vfold <- vfold_cv(sonar_train, v = 5, strata = type)"
   ]
  },
  {
   "cell_type": "markdown",
   "id": "b1f8e0ae-ca99-4b05-afee-d3d76324884d",
   "metadata": {},
   "source": [
    "- K-nearest neighbors is sensitive to the scale of the predictors, so `step_scale()` and `step_center()` are used to perform some preprocessing and standardize them\n",
    "- `recipe_full` includes all predictors \n",
    "- `recipe_reduced` excludes predictors from \"X50\" to \"X60\" columns\n",
    "- `vfold_cv` splits up the training data for cross validation; \"v = 5\" indicates 5 folds automatically, and we set the `strata` argument to the catagorical label (here, type) to ensure that the training and validation subsets contain the right proportions of each category of observations\n",
    "- A model specification for K-nearest neighbors classification is created by calling the `nearest_neighbor` function, with `tune()`"
   ]
  },
  {
   "cell_type": "code",
   "execution_count": 12,
   "id": "1d8065bd-edf5-44b0-82cf-f5145d1db639",
   "metadata": {},
   "outputs": [],
   "source": [
    "#workflow\n",
    "work_full <- workflow()|> add_recipe(recipe_full)|> add_model(knn_spec)\n",
    "work_reduced <- workflow()|> add_recipe(recipe_reduced)|> add_model(knn_spec)"
   ]
  },
  {
   "cell_type": "markdown",
   "id": "60552315-6eca-4f71-a9f1-19108e4d3ab8",
   "metadata": {},
   "source": [
    "- Here, we add the recipe and model specification to a `workflow()`"
   ]
  },
  {
   "cell_type": "code",
   "execution_count": 13,
   "id": "a0d08831-1fe4-4074-945d-5a2604ad3663",
   "metadata": {},
   "outputs": [],
   "source": [
    "#results\n",
    "metrics_full <- work_full |> tune_grid(resamples = sonar_vfold, grid = tibble(neighbors = 2:10))|>\n",
    "    collect_metrics()\n",
    "metrics_reduced <- work_reduced |> tune_grid(resamples = sonar_vfold, grid = tibble(neighbors = 2:10))|>\n",
    "    collect_metrics()"
   ]
  },
  {
   "cell_type": "markdown",
   "id": "ba559a20-3242-4454-9c88-60bbaef15aa7",
   "metadata": {},
   "source": [
    "- The `tune_grid` function is used on the train/validation splits to estimate the classifier accuracy for a range of K values\n",
    "- The `collect_metrics` function is used to aggregate the mean and standard error of the classifier’s validation accuracy across the folds"
   ]
  },
  {
   "cell_type": "code",
   "execution_count": 14,
   "id": "4b2c4060-eb60-496d-837e-e36945bc1598",
   "metadata": {},
   "outputs": [
    {
     "data": {
      "image/png": "[encoded data removed]",
      "text/plain": [
       "plot without title"
      ]
     },
     "metadata": {
      "image/png": {
       "height": 360,
       "width": 600
      }
     },
     "output_type": "display_data"
    }
   ],
   "source": [
    "options(repr.plot.height = 6, repr.plot.width = 10)\n",
    "cross_plot_data <- bind_rows(mutate(metrics_full, id = as_factor(\"f\")), \n",
    "                             mutate(metrics_reduced, id = as_factor(\"r\")))|>\n",
    "                    filter(.metric == \"accuracy\")\n",
    "cross_val_plot <- cross_plot_data |> \n",
    "    ggplot(aes(x = neighbors, y = mean, color = id)) +\n",
    "    geom_point() +\n",
    "    geom_line() +\n",
    "    labs(x = \"Neighbors\", y = \"Accuracy Estimate\", color = \"Workflow type\", f = \"full\")+\n",
    "    scale_x_continuous(breaks = seq(0, 10, by = 1)) +  # adjusting the x-axis\n",
    "    scale_y_continuous(limits = c(0.4, 1.0)) + # adjusting the y-axis\n",
    "    theme(text = element_text(size = 20)) +\n",
    "    scale_colour_discrete(labels = c(\"Full\", \"Reduced\"))\n",
    "cross_val_plot\n",
    "# cross_plot_data\n"
   ]
  },
  {
   "cell_type": "markdown",
   "id": "dc57e749-c17b-4edf-a490-db3028580728",
   "metadata": {},
   "source": [
    "- Excluding bands \"X50\" to \"X60\" (reduced) results in a classifier with higher accuracy compared to full aside from when neighbours is equal to 2 to 2.5(due ot overfitting)\n",
    "- We will choose the 3 neighbours with the reduced workflow type as it yields the highest accuracy estimate(and use an odd number to avoid draws)"
   ]
  },
  {
   "cell_type": "code",
   "execution_count": 15,
   "id": "c7652e06-9423-4876-b1a1-bedf4deda137",
   "metadata": {},
   "outputs": [
    {
     "data": {
      "text/html": [
       "<table class=\"dataframe\">\n",
       "<caption>A tibble: 2 × 3</caption>\n",
       "<thead>\n",
       "\t<tr><th scope=col>.metric</th><th scope=col>.estimator</th><th scope=col>.estimate</th></tr>\n",
       "\t<tr><th scope=col>&lt;chr&gt;</th><th scope=col>&lt;chr&gt;</th><th scope=col>&lt;dbl&gt;</th></tr>\n",
       "</thead>\n",
       "<tbody>\n",
       "\t<tr><td>accuracy</td><td>binary</td><td>0.8490566</td></tr>\n",
       "\t<tr><td>kap     </td><td>binary</td><td>0.6945245</td></tr>\n",
       "</tbody>\n",
       "</table>\n"
      ],
      "text/latex": [
       "A tibble: 2 × 3\n",
       "\\begin{tabular}{lll}\n",
       " .metric & .estimator & .estimate\\\\\n",
       " <chr> & <chr> & <dbl>\\\\\n",
       "\\hline\n",
       "\t accuracy & binary & 0.8490566\\\\\n",
       "\t kap      & binary & 0.6945245\\\\\n",
       "\\end{tabular}\n"
      ],
      "text/markdown": [
       "\n",
       "A tibble: 2 × 3\n",
       "\n",
       "| .metric &lt;chr&gt; | .estimator &lt;chr&gt; | .estimate &lt;dbl&gt; |\n",
       "|---|---|---|\n",
       "| accuracy | binary | 0.8490566 |\n",
       "| kap      | binary | 0.6945245 |\n",
       "\n"
      ],
      "text/plain": [
       "  .metric  .estimator .estimate\n",
       "1 accuracy binary     0.8490566\n",
       "2 kap      binary     0.6945245"
      ]
     },
     "metadata": {},
     "output_type": "display_data"
    },
    {
     "data": {
      "text/plain": [
       "          Truth\n",
       "Prediction  R  M\n",
       "         R 19  2\n",
       "         M  6 26"
      ]
     },
     "metadata": {},
     "output_type": "display_data"
    }
   ],
   "source": [
    "knn_spec_final <- nearest_neighbor(weight_func = \"rectangular\", neighbors = 3) |> \n",
    "    set_engine(\"kknn\") |> \n",
    "    set_mode(\"classification\")\n",
    "\n",
    "workflow_final <- workflow()|> \n",
    "    add_recipe(recipe_reduced)|> \n",
    "    add_model(knn_spec_final)|>\n",
    "    fit(data = sonar_train)\n",
    "\n",
    "sonar_predictions <- predict(workflow_final, sonar_test)|>\n",
    "    bind_cols(sonar_test)\n",
    "\n",
    "sonar_metrics <- sonar_predictions|> \n",
    "    metrics(truth = type, estimate = .pred_class)\n",
    "\n",
    "sonar_conf_mat <- sonar_predictions|>\n",
    "    conf_mat(truth = type, estimate = .pred_class)\n",
    "\n",
    "sonar_metrics\n",
    "sonar_conf_mat"
   ]
  },
  {
   "cell_type": "markdown",
   "id": "9604114d-b2c4-420c-aaf5-d539ad87d542",
   "metadata": {},
   "source": [
    "- A new model specification is created with the previously determined best parameter value (i.e., K = 3)\n",
    "- The recipe and model specification is added to a `workflow()` and we retrain the classifier using the `fit()` function\n",
    "- The class labels for our test set are predicted using the `predict()` function and `bind_cols()` is applied to add the column of predictions to the original test data creating the predictions data frame\n",
    "- The estimated accuracy of the classifier is evaluated on the test set using the `metrics()` function\n",
    "- A confusion matrix is created for the classifier using `conf_mat()` which shows the table of predicted labels and correct labels"
   ]
  },
  {
   "cell_type": "markdown",
   "id": "b21f0e5b-b916-47a9-b936-01ea10926882",
   "metadata": {},
   "source": [
    "## Results"
   ]
  },
  {
   "cell_type": "markdown",
   "id": "ba291838-d5c7-43cd-888f-89fdb549e06a",
   "metadata": {},
   "source": [
    "The results of the classification model on the test data are:\n",
    "#### Accuracy: 84.90% \n",
    "\n",
    "The confusion matrix shows that out of 47 test instances:  \n",
    "- 19 instances of type \"Rock\" (labelled as R) were correctly predicted as \"Rock\" (R) \n",
    "- 26 instances of type \"Mine\" (labelled as M) were correctly predicted as \"Mine\" (M) \n",
    "- 2 instances of type \"Rock\" (R) were incorrectly predicted as \"Mine\" (M) \n",
    "- 6 instances of type \"Mine\" (M) were incorrectly predicted as \"Rock\" (R)\n"
   ]
  },
  {
   "cell_type": "markdown",
   "id": "8fa78058-7515-4954-8b7d-2d00091e1d6e",
   "metadata": {},
   "source": [
    "## Discussion"
   ]
  },
  {
   "cell_type": "markdown",
   "id": "e7e082c2-8d0e-45ef-8be9-3c8dd93e0f48",
   "metadata": {},
   "source": [
    "The KNN classification model achieved an accuracy of 84.9% on the test data. The classifier excluded bands X50 to X60 as shown by our EDA we have irrelevant predictors that reduce accuracy, verefied by our accuracy estimate plot. Bands X50 to X60 are similar in pattern across both mines and rocks, so influence from these bands in the classifier does not aid in differentiation between mines and rocks. The classifier correctly predicted the majority of instances for both \"Rock\" and \"Mine\" types, but there were some misclassifications with 2 instances of \"Rock\" being predicted as \"Mine\" and 6 instances of \"Mine\" being predicted as \"Rock\". These accuracies fit within what we expected to find, as both mines and rocks were seen to have different mean measurement values in Fig. 1. Some inaccuracies were also expected as some mean measurement values were similar in value to each other."
   ]
  },
  {
   "cell_type": "markdown",
   "id": "f2c3ff50-4b3b-4c93-b94a-1cb05681c4fa",
   "metadata": {},
   "source": [
    "A classifier that accurately classifies rocks from naval mines opens possibilities in developing autonomous or A.I. directed applications. With current technology, detecting and clearing naval mines with the use of specialized equipment and human operators analyzing sonar imagery for mine detection can be a resource-intensive costly procedure (Gebhardt et al., 2017). A classifier that can accurately distinguish between rocks and naval mines can potentially lead to reductions in cost and labor. When human operators are responsible for mine detection, there are limiting factors such as human error through “drowsiness or nervousness” (Gebhardt et al., 2017) that may result in missing a naval mine or falsely identifying objects as naval mines; such limitations can be prevented through the development of an accurate classifier that would increase the efficiency of mine clearing operations by reducing the amount of time needed to identify a naval mine without direct mistake-prone human examination. For example, deep learning can be used to classify objects automatically, with little need for human input to extract image features for identification, which is a major drawback for classical image processing (Hożyń, S., 2021). Trends point to the combined use of manpower and deep learning to maximize classification accuracy, whilst minimizing computational costs by allowing deep learning algorithms to focus on parts of sonar images significant towards classification purposes (Hożyń, S., 2021)."
   ]
  },
  {
   "cell_type": "markdown",
   "id": "6baa93fe-ab3c-419e-ab8f-e3be99008ab5",
   "metadata": {},
   "source": [
    "## References"
   ]
  },
  {
   "cell_type": "markdown",
   "id": "5d84a063-064e-4f9b-b55b-95edea0072e7",
   "metadata": {},
   "source": [
    "D. Köhntopp, B. Lehmann, D. Kraus, & A. Birk. (2019). Classification and Localization of Naval Mines With Superellipse Active Contours. _IEEE Journal of Oceanic Engineering, 44_(3), 767–782. https://doi.org/10.1109/JOE.2018.2835218\n",
    "\n",
    "Gebhardt, D., Parikh, K., Dzieciuch, I., Walton, M., & Hoang, N. A. V. (2017, September). Hunting for naval mines with deep neural networks. In OCEANS 2017-Anchorage (pp. 1-5). IEEE.\n",
    "\n",
    "Hożyń S. A Review of Underwater Mine Detection and Classification in Sonar Imagery. Electronics. 2021; 10(23):2943. https://doi.org/10.3390/electronics10232943"
   ]
  }
 ],
 "metadata": {
  "kernelspec": {
   "display_name": "R",
   "language": "R",
   "name": "ir"
  },
  "language_info": {
   "codemirror_mode": "r",
   "file_extension": ".r",
   "mimetype": "text/x-r-source",
   "name": "R",
   "pygments_lexer": "r",
   "version": "4.1.3"
  }
 },
 "nbformat": 4,
 "nbformat_minor": 5
}

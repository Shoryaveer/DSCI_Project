{
 "cells": [
  {
   "cell_type": "markdown",
   "id": "574c96ee-b81b-43ca-b27c-047e4940e59f",
   "metadata": {},
   "source": [
    "# <center>Proposal</center>"
   ]
  },
  {
   "cell_type": "markdown",
   "id": "ac209de6-2ecf-4f51-ad62-9b5e84f50c55",
   "metadata": {},
   "source": [
    "## Title"
   ]
  },
  {
   "cell_type": "markdown",
   "id": "dfb92fc8-9178-4aaa-b82a-10ff16b47593",
   "metadata": {},
   "source": [
    "## Introduction"
   ]
  },
  {
   "cell_type": "markdown",
   "id": "277c4e7b-8c67-4cdb-81e5-0741a15fda9c",
   "metadata": {},
   "source": []
  },
  {
   "cell_type": "markdown",
   "id": "809603c4-e90b-4937-9190-bfb3812e728b",
   "metadata": {},
   "source": [
    "## Preliminary exploratory data analysis:"
   ]
  },
  {
   "cell_type": "markdown",
   "id": "32603e88-23b3-406d-b676-0bd1750fe242",
   "metadata": {},
   "source": [
    "### Loading Data into Jupyter"
   ]
  },
  {
   "cell_type": "markdown",
   "id": "cc627694-23fd-4304-8460-0e944224072b",
   "metadata": {},
   "source": [
    "Loading the data from the website is pretty simple; we will use read_csv to accomplish that. We have decided to not download and save the dataset to save space. The dataset from the website does not have column names so we set col_names to FALSE in the argument. This will assign column names as X and followed by the number of the column. There is no point in renaming the bands but the last column is the type and is renamed as such."
   ]
  },
  {
   "cell_type": "code",
   "execution_count": 1,
   "id": "2e91e4ca-3071-4c79-8a64-1d1830a5a3d1",
   "metadata": {},
   "outputs": [
    {
     "name": "stderr",
     "output_type": "stream",
     "text": [
      "── \u001b[1mAttaching packages\u001b[22m ─────────────────────────────────────── tidyverse 1.3.1 ──\n",
      "\n",
      "\u001b[32m✔\u001b[39m \u001b[34mggplot2\u001b[39m 3.3.6     \u001b[32m✔\u001b[39m \u001b[34mpurrr  \u001b[39m 0.3.4\n",
      "\u001b[32m✔\u001b[39m \u001b[34mtibble \u001b[39m 3.1.7     \u001b[32m✔\u001b[39m \u001b[34mdplyr  \u001b[39m 1.0.9\n",
      "\u001b[32m✔\u001b[39m \u001b[34mtidyr  \u001b[39m 1.2.0     \u001b[32m✔\u001b[39m \u001b[34mstringr\u001b[39m 1.4.0\n",
      "\u001b[32m✔\u001b[39m \u001b[34mreadr  \u001b[39m 2.1.2     \u001b[32m✔\u001b[39m \u001b[34mforcats\u001b[39m 0.5.1\n",
      "\n",
      "── \u001b[1mConflicts\u001b[22m ────────────────────────────────────────── tidyverse_conflicts() ──\n",
      "\u001b[31m✖\u001b[39m \u001b[34mdplyr\u001b[39m::\u001b[32mfilter()\u001b[39m masks \u001b[34mstats\u001b[39m::filter()\n",
      "\u001b[31m✖\u001b[39m \u001b[34mdplyr\u001b[39m::\u001b[32mlag()\u001b[39m    masks \u001b[34mstats\u001b[39m::lag()\n",
      "\n"
     ]
    }
   ],
   "source": [
    "library(tidyverse)"
   ]
  },
  {
   "cell_type": "code",
   "execution_count": 2,
   "id": "25997de4-be39-4414-a9a1-df04890a73d2",
   "metadata": {},
   "outputs": [
    {
     "name": "stderr",
     "output_type": "stream",
     "text": [
      "\u001b[1mRows: \u001b[22m\u001b[34m208\u001b[39m \u001b[1mColumns: \u001b[22m\u001b[34m61\u001b[39m\n",
      "\u001b[36m──\u001b[39m \u001b[1mColumn specification\u001b[22m \u001b[36m────────────────────────────────────────────────────────\u001b[39m\n",
      "\u001b[1mDelimiter:\u001b[22m \",\"\n",
      "\u001b[31mchr\u001b[39m  (1): X61\n",
      "\u001b[32mdbl\u001b[39m (60): X1, X2, X3, X4, X5, X6, X7, X8, X9, X10, X11, X12, X13, X14, X15, ...\n",
      "\n",
      "\u001b[36mℹ\u001b[39m Use `spec()` to retrieve the full column specification for this data.\n",
      "\u001b[36mℹ\u001b[39m Specify the column types or set `show_col_types = FALSE` to quiet this message.\n"
     ]
    },
    {
     "name": "stdout",
     "output_type": "stream",
     "text": [
      "\u001b[90m# A tibble: 208 × 61\u001b[39m\n",
      "      X1     X2     X3     X4     X5     X6    X7    X8     X9   X10    X11\n",
      "   \u001b[3m\u001b[90m<dbl>\u001b[39m\u001b[23m  \u001b[3m\u001b[90m<dbl>\u001b[39m\u001b[23m  \u001b[3m\u001b[90m<dbl>\u001b[39m\u001b[23m  \u001b[3m\u001b[90m<dbl>\u001b[39m\u001b[23m  \u001b[3m\u001b[90m<dbl>\u001b[39m\u001b[23m  \u001b[3m\u001b[90m<dbl>\u001b[39m\u001b[23m \u001b[3m\u001b[90m<dbl>\u001b[39m\u001b[23m \u001b[3m\u001b[90m<dbl>\u001b[39m\u001b[23m  \u001b[3m\u001b[90m<dbl>\u001b[39m\u001b[23m \u001b[3m\u001b[90m<dbl>\u001b[39m\u001b[23m  \u001b[3m\u001b[90m<dbl>\u001b[39m\u001b[23m\n",
      "\u001b[90m1\u001b[39m 0.02   0.037\u001b[4m1\u001b[24m 0.042\u001b[4m8\u001b[24m 0.020\u001b[4m7\u001b[24m 0.095\u001b[4m4\u001b[24m 0.098\u001b[4m6\u001b[24m 0.154 0.160 0.311  0.211 0.161 \n",
      "\u001b[90m2\u001b[39m 0.045\u001b[4m3\u001b[24m 0.052\u001b[4m3\u001b[24m 0.084\u001b[4m3\u001b[24m 0.068\u001b[4m9\u001b[24m 0.118  0.258  0.216 0.348 0.334  0.287 0.492 \n",
      "\u001b[90m3\u001b[39m 0.026\u001b[4m2\u001b[24m 0.058\u001b[4m2\u001b[24m 0.110  0.108  0.097\u001b[4m4\u001b[24m 0.228  0.243 0.377 0.560  0.619 0.633 \n",
      "\u001b[90m4\u001b[39m 0.01   0.017\u001b[4m1\u001b[24m 0.062\u001b[4m3\u001b[24m 0.020\u001b[4m5\u001b[24m 0.020\u001b[4m5\u001b[24m 0.036\u001b[4m8\u001b[24m 0.110 0.128 0.059\u001b[4m8\u001b[24m 0.126 0.088\u001b[4m1\u001b[24m\n",
      "\u001b[90m5\u001b[39m 0.076\u001b[4m2\u001b[24m 0.066\u001b[4m6\u001b[24m 0.048\u001b[4m1\u001b[24m 0.039\u001b[4m4\u001b[24m 0.059  0.064\u001b[4m9\u001b[24m 0.121 0.247 0.356  0.446 0.415 \n",
      "\u001b[90m# … with 203 more rows, and 50 more variables: X12 <dbl>, X13 <dbl>, X14 <dbl>,\u001b[39m\n",
      "\u001b[90m#   X15 <dbl>, X16 <dbl>, X17 <dbl>, X18 <dbl>, X19 <dbl>, X20 <dbl>,\u001b[39m\n",
      "\u001b[90m#   X21 <dbl>, X22 <dbl>, X23 <dbl>, X24 <dbl>, X25 <dbl>, X26 <dbl>,\u001b[39m\n",
      "\u001b[90m#   X27 <dbl>, X28 <dbl>, X29 <dbl>, X30 <dbl>, X31 <dbl>, X32 <dbl>,\u001b[39m\n",
      "\u001b[90m#   X33 <dbl>, X34 <dbl>, X35 <dbl>, X36 <dbl>, X37 <dbl>, X38 <dbl>,\u001b[39m\n",
      "\u001b[90m#   X39 <dbl>, X40 <dbl>, X41 <dbl>, X42 <dbl>, X43 <dbl>, X44 <dbl>,\u001b[39m\n",
      "\u001b[90m#   X45 <dbl>, X46 <dbl>, X47 <dbl>, X48 <dbl>, X49 <dbl>, X50 <dbl>, …\u001b[39m\n"
     ]
    }
   ],
   "source": [
    "sonar_url <- \"https://archive.ics.uci.edu/ml/machine-learning-databases/undocumented/connectionist-bench/sonar/sonar.all-data\" \n",
    "\n",
    "# does rename successfully but does not show in the red box\n",
    "sonar_data <- read_csv(sonar_url, col_names = FALSE) |> \n",
    "    rename(type = X61) \n",
    "\n",
    "print(sonar_data, n = 5)"
   ]
  },
  {
   "cell_type": "markdown",
   "id": "55a24abd-44d8-45ae-91ee-f4082620d902",
   "metadata": {},
   "source": [
    "### Wrangling data"
   ]
  },
  {
   "cell_type": "markdown",
   "id": "015bb8f4-0f31-4b29-9277-c6b44736f32f",
   "metadata": {},
   "source": [
    "Our first plan was to wrangle the dataset to have three columns: **band**(this will be a factor in range from X1 to X60), **value**(range from 0.0 to 1.0) and **type**(will be a factor; rocks(R) or mines(M)). However, after talking to the TA and facing difficulty in choosing appropriate inputs/predictors, we have decided to leave the dataset as is and have **bands** ranging from **X1** to **X60** in separate columns, and the last columns as X61 to be renamed as **type** with the same description as above. Moreover, we have decided to shuffle the data as it was arranged to be rocks and then mines; it would have made difficult to partition testing set and training set.\n"
   ]
  },
  {
   "cell_type": "code",
   "execution_count": 3,
   "id": "fed1c961-997d-4797-829b-d3cac905523e",
   "metadata": {},
   "outputs": [],
   "source": [
    "# shuffling data since it is arranged as R then M\n",
    "sonar_set <- sonar_data[sample(1:nrow(sonar_data)), ]"
   ]
  },
  {
   "cell_type": "markdown",
   "id": "988a5d73-5b4c-40f1-a464-59fc8f9f74b4",
   "metadata": {},
   "source": [
    "### Exploratory data analysis(tables)"
   ]
  },
  {
   "cell_type": "markdown",
   "id": "303a87fd-251b-4cf7-955e-14652a2ffd47",
   "metadata": {},
   "source": [
    "**Summary of exploration below all the code cells**"
   ]
  },
  {
   "cell_type": "code",
   "execution_count": 4,
   "id": "3f9108c9-d94b-4ce8-8ac2-8a0d56deb451",
   "metadata": {},
   "outputs": [
    {
     "data": {
      "text/html": [
       "<table class=\"dataframe\">\n",
       "<caption>A tibble: 2 × 2</caption>\n",
       "<thead>\n",
       "\t<tr><th scope=col>type</th><th scope=col>n()</th></tr>\n",
       "\t<tr><th scope=col>&lt;chr&gt;</th><th scope=col>&lt;int&gt;</th></tr>\n",
       "</thead>\n",
       "<tbody>\n",
       "\t<tr><td>M</td><td>111</td></tr>\n",
       "\t<tr><td>R</td><td> 97</td></tr>\n",
       "</tbody>\n",
       "</table>\n"
      ],
      "text/latex": [
       "A tibble: 2 × 2\n",
       "\\begin{tabular}{ll}\n",
       " type & n()\\\\\n",
       " <chr> & <int>\\\\\n",
       "\\hline\n",
       "\t M & 111\\\\\n",
       "\t R &  97\\\\\n",
       "\\end{tabular}\n"
      ],
      "text/markdown": [
       "\n",
       "A tibble: 2 × 2\n",
       "\n",
       "| type &lt;chr&gt; | n() &lt;int&gt; |\n",
       "|---|---|\n",
       "| M | 111 |\n",
       "| R |  97 |\n",
       "\n"
      ],
      "text/plain": [
       "  type n()\n",
       "1 M    111\n",
       "2 R     97"
      ]
     },
     "metadata": {},
     "output_type": "display_data"
    }
   ],
   "source": [
    "# verifying if the set matches the description\n",
    "verify_count <- sonar_set |> \n",
    "    group_by(type)|>\n",
    "    summarize(n())\n",
    "\n",
    "verify_count"
   ]
  },
  {
   "cell_type": "code",
   "execution_count": 5,
   "id": "c870c760-eb41-4c30-abd5-52a5cac7d28e",
   "metadata": {},
   "outputs": [
    {
     "data": {
      "text/html": [
       "<style>\n",
       ".dl-inline {width: auto; margin:0; padding: 0}\n",
       ".dl-inline>dt, .dl-inline>dd {float: none; width: auto; display: inline-block}\n",
       ".dl-inline>dt::after {content: \":\\0020\"; padding-right: .5ex}\n",
       ".dl-inline>dt:not(:first-of-type) {padding-left: .5ex}\n",
       "</style><dl class=dl-inline><dt>X1</dt><dd>0</dd><dt>X2</dt><dd>0</dd><dt>X3</dt><dd>0</dd><dt>X4</dt><dd>0</dd><dt>X5</dt><dd>0</dd><dt>X6</dt><dd>0</dd><dt>X7</dt><dd>0</dd><dt>X8</dt><dd>0</dd><dt>X9</dt><dd>0</dd><dt>X10</dt><dd>0</dd><dt>X11</dt><dd>0</dd><dt>X12</dt><dd>0</dd><dt>X13</dt><dd>0</dd><dt>X14</dt><dd>0</dd><dt>X15</dt><dd>0</dd><dt>X16</dt><dd>0</dd><dt>X17</dt><dd>0</dd><dt>X18</dt><dd>0</dd><dt>X19</dt><dd>0</dd><dt>X20</dt><dd>0</dd><dt>X21</dt><dd>0</dd><dt>X22</dt><dd>0</dd><dt>X23</dt><dd>0</dd><dt>X24</dt><dd>0</dd><dt>X25</dt><dd>0</dd><dt>X26</dt><dd>0</dd><dt>X27</dt><dd>0</dd><dt>X28</dt><dd>0</dd><dt>X29</dt><dd>0</dd><dt>X30</dt><dd>0</dd><dt>X31</dt><dd>0</dd><dt>X32</dt><dd>0</dd><dt>X33</dt><dd>0</dd><dt>X34</dt><dd>0</dd><dt>X35</dt><dd>0</dd><dt>X36</dt><dd>0</dd><dt>X37</dt><dd>0</dd><dt>X38</dt><dd>0</dd><dt>X39</dt><dd>0</dd><dt>X40</dt><dd>0</dd><dt>X41</dt><dd>0</dd><dt>X42</dt><dd>0</dd><dt>X43</dt><dd>0</dd><dt>X44</dt><dd>0</dd><dt>X45</dt><dd>0</dd><dt>X46</dt><dd>0</dd><dt>X47</dt><dd>0</dd><dt>X48</dt><dd>0</dd><dt>X49</dt><dd>0</dd><dt>X50</dt><dd>0</dd><dt>X51</dt><dd>0</dd><dt>X52</dt><dd>0</dd><dt>X53</dt><dd>0</dd><dt>X54</dt><dd>0</dd><dt>X55</dt><dd>0</dd><dt>X56</dt><dd>0</dd><dt>X57</dt><dd>0</dd><dt>X58</dt><dd>0</dd><dt>X59</dt><dd>0</dd><dt>X60</dt><dd>0</dd><dt>type</dt><dd>0</dd></dl>\n"
      ],
      "text/latex": [
       "\\begin{description*}\n",
       "\\item[X1] 0\n",
       "\\item[X2] 0\n",
       "\\item[X3] 0\n",
       "\\item[X4] 0\n",
       "\\item[X5] 0\n",
       "\\item[X6] 0\n",
       "\\item[X7] 0\n",
       "\\item[X8] 0\n",
       "\\item[X9] 0\n",
       "\\item[X10] 0\n",
       "\\item[X11] 0\n",
       "\\item[X12] 0\n",
       "\\item[X13] 0\n",
       "\\item[X14] 0\n",
       "\\item[X15] 0\n",
       "\\item[X16] 0\n",
       "\\item[X17] 0\n",
       "\\item[X18] 0\n",
       "\\item[X19] 0\n",
       "\\item[X20] 0\n",
       "\\item[X21] 0\n",
       "\\item[X22] 0\n",
       "\\item[X23] 0\n",
       "\\item[X24] 0\n",
       "\\item[X25] 0\n",
       "\\item[X26] 0\n",
       "\\item[X27] 0\n",
       "\\item[X28] 0\n",
       "\\item[X29] 0\n",
       "\\item[X30] 0\n",
       "\\item[X31] 0\n",
       "\\item[X32] 0\n",
       "\\item[X33] 0\n",
       "\\item[X34] 0\n",
       "\\item[X35] 0\n",
       "\\item[X36] 0\n",
       "\\item[X37] 0\n",
       "\\item[X38] 0\n",
       "\\item[X39] 0\n",
       "\\item[X40] 0\n",
       "\\item[X41] 0\n",
       "\\item[X42] 0\n",
       "\\item[X43] 0\n",
       "\\item[X44] 0\n",
       "\\item[X45] 0\n",
       "\\item[X46] 0\n",
       "\\item[X47] 0\n",
       "\\item[X48] 0\n",
       "\\item[X49] 0\n",
       "\\item[X50] 0\n",
       "\\item[X51] 0\n",
       "\\item[X52] 0\n",
       "\\item[X53] 0\n",
       "\\item[X54] 0\n",
       "\\item[X55] 0\n",
       "\\item[X56] 0\n",
       "\\item[X57] 0\n",
       "\\item[X58] 0\n",
       "\\item[X59] 0\n",
       "\\item[X60] 0\n",
       "\\item[type] 0\n",
       "\\end{description*}\n"
      ],
      "text/markdown": [
       "X1\n",
       ":   0X2\n",
       ":   0X3\n",
       ":   0X4\n",
       ":   0X5\n",
       ":   0X6\n",
       ":   0X7\n",
       ":   0X8\n",
       ":   0X9\n",
       ":   0X10\n",
       ":   0X11\n",
       ":   0X12\n",
       ":   0X13\n",
       ":   0X14\n",
       ":   0X15\n",
       ":   0X16\n",
       ":   0X17\n",
       ":   0X18\n",
       ":   0X19\n",
       ":   0X20\n",
       ":   0X21\n",
       ":   0X22\n",
       ":   0X23\n",
       ":   0X24\n",
       ":   0X25\n",
       ":   0X26\n",
       ":   0X27\n",
       ":   0X28\n",
       ":   0X29\n",
       ":   0X30\n",
       ":   0X31\n",
       ":   0X32\n",
       ":   0X33\n",
       ":   0X34\n",
       ":   0X35\n",
       ":   0X36\n",
       ":   0X37\n",
       ":   0X38\n",
       ":   0X39\n",
       ":   0X40\n",
       ":   0X41\n",
       ":   0X42\n",
       ":   0X43\n",
       ":   0X44\n",
       ":   0X45\n",
       ":   0X46\n",
       ":   0X47\n",
       ":   0X48\n",
       ":   0X49\n",
       ":   0X50\n",
       ":   0X51\n",
       ":   0X52\n",
       ":   0X53\n",
       ":   0X54\n",
       ":   0X55\n",
       ":   0X56\n",
       ":   0X57\n",
       ":   0X58\n",
       ":   0X59\n",
       ":   0X60\n",
       ":   0type\n",
       ":   0\n",
       "\n"
      ],
      "text/plain": [
       "  X1   X2   X3   X4   X5   X6   X7   X8   X9  X10  X11  X12  X13  X14  X15  X16 \n",
       "   0    0    0    0    0    0    0    0    0    0    0    0    0    0    0    0 \n",
       " X17  X18  X19  X20  X21  X22  X23  X24  X25  X26  X27  X28  X29  X30  X31  X32 \n",
       "   0    0    0    0    0    0    0    0    0    0    0    0    0    0    0    0 \n",
       " X33  X34  X35  X36  X37  X38  X39  X40  X41  X42  X43  X44  X45  X46  X47  X48 \n",
       "   0    0    0    0    0    0    0    0    0    0    0    0    0    0    0    0 \n",
       " X49  X50  X51  X52  X53  X54  X55  X56  X57  X58  X59  X60 type \n",
       "   0    0    0    0    0    0    0    0    0    0    0    0    0 "
      ]
     },
     "metadata": {},
     "output_type": "display_data"
    }
   ],
   "source": [
    "empty_obs <- colSums(is.na(sonar_set))\n",
    "\n",
    "empty_obs"
   ]
  },
  {
   "cell_type": "code",
   "execution_count": 6,
   "id": "e8b9ebe2-87bb-4841-915d-3525bead8223",
   "metadata": {},
   "outputs": [
    {
     "data": {
      "text/html": [
       "<table class=\"dataframe\">\n",
       "<caption>A data.frame: 1 × 10</caption>\n",
       "<thead>\n",
       "\t<tr><th scope=col>X1</th><th scope=col>X2</th><th scope=col>X3</th><th scope=col>X4</th><th scope=col>X5</th><th scope=col>X6</th><th scope=col>X7</th><th scope=col>X8</th><th scope=col>X9</th><th scope=col>X10</th></tr>\n",
       "\t<tr><th scope=col>&lt;dbl&gt;</th><th scope=col>&lt;dbl&gt;</th><th scope=col>&lt;dbl&gt;</th><th scope=col>&lt;dbl&gt;</th><th scope=col>&lt;dbl&gt;</th><th scope=col>&lt;dbl&gt;</th><th scope=col>&lt;dbl&gt;</th><th scope=col>&lt;dbl&gt;</th><th scope=col>&lt;dbl&gt;</th><th scope=col>&lt;dbl&gt;</th></tr>\n",
       "</thead>\n",
       "<tbody>\n",
       "\t<tr><td>0.02249794</td><td>0.03030309</td><td>0.03595052</td><td>0.04144742</td><td>0.06202784</td><td>0.09622371</td><td>0.1141804</td><td>0.1175959</td><td>0.1373918</td><td>0.1593247</td></tr>\n",
       "</tbody>\n",
       "</table>\n"
      ],
      "text/latex": [
       "A data.frame: 1 × 10\n",
       "\\begin{tabular}{llllllllll}\n",
       " X1 & X2 & X3 & X4 & X5 & X6 & X7 & X8 & X9 & X10\\\\\n",
       " <dbl> & <dbl> & <dbl> & <dbl> & <dbl> & <dbl> & <dbl> & <dbl> & <dbl> & <dbl>\\\\\n",
       "\\hline\n",
       "\t 0.02249794 & 0.03030309 & 0.03595052 & 0.04144742 & 0.06202784 & 0.09622371 & 0.1141804 & 0.1175959 & 0.1373918 & 0.1593247\\\\\n",
       "\\end{tabular}\n"
      ],
      "text/markdown": [
       "\n",
       "A data.frame: 1 × 10\n",
       "\n",
       "| X1 &lt;dbl&gt; | X2 &lt;dbl&gt; | X3 &lt;dbl&gt; | X4 &lt;dbl&gt; | X5 &lt;dbl&gt; | X6 &lt;dbl&gt; | X7 &lt;dbl&gt; | X8 &lt;dbl&gt; | X9 &lt;dbl&gt; | X10 &lt;dbl&gt; |\n",
       "|---|---|---|---|---|---|---|---|---|---|\n",
       "| 0.02249794 | 0.03030309 | 0.03595052 | 0.04144742 | 0.06202784 | 0.09622371 | 0.1141804 | 0.1175959 | 0.1373918 | 0.1593247 |\n",
       "\n"
      ],
      "text/plain": [
       "  X1         X2         X3         X4         X5         X6         X7       \n",
       "1 0.02249794 0.03030309 0.03595052 0.04144742 0.06202784 0.09622371 0.1141804\n",
       "  X8        X9        X10      \n",
       "1 0.1175959 0.1373918 0.1593247"
      ]
     },
     "metadata": {},
     "output_type": "display_data"
    }
   ],
   "source": [
    "rock_10_band_mean <- sonar_set |>\n",
    "    filter(type == \"R\")|>\n",
    "    select(X1:X10) |>\n",
    "    map(mean) |>\n",
    "    data.frame()\n",
    "rock_10_band_mean"
   ]
  },
  {
   "cell_type": "code",
   "execution_count": 7,
   "id": "b745cd8e-3e6d-4bc4-b878-629a25625801",
   "metadata": {},
   "outputs": [
    {
     "data": {
      "text/html": [
       "<table class=\"dataframe\">\n",
       "<caption>A data.frame: 1 × 10</caption>\n",
       "<thead>\n",
       "\t<tr><th scope=col>X1</th><th scope=col>X2</th><th scope=col>X3</th><th scope=col>X4</th><th scope=col>X5</th><th scope=col>X6</th><th scope=col>X7</th><th scope=col>X8</th><th scope=col>X9</th><th scope=col>X10</th></tr>\n",
       "\t<tr><th scope=col>&lt;dbl&gt;</th><th scope=col>&lt;dbl&gt;</th><th scope=col>&lt;dbl&gt;</th><th scope=col>&lt;dbl&gt;</th><th scope=col>&lt;dbl&gt;</th><th scope=col>&lt;dbl&gt;</th><th scope=col>&lt;dbl&gt;</th><th scope=col>&lt;dbl&gt;</th><th scope=col>&lt;dbl&gt;</th><th scope=col>&lt;dbl&gt;</th></tr>\n",
       "</thead>\n",
       "<tbody>\n",
       "\t<tr><td>0.03498919</td><td>0.04554414</td><td>0.05071982</td><td>0.06476757</td><td>0.08671532</td><td>0.111864</td><td>0.1283586</td><td>0.1498324</td><td>0.2134919</td><td>0.2510216</td></tr>\n",
       "</tbody>\n",
       "</table>\n"
      ],
      "text/latex": [
       "A data.frame: 1 × 10\n",
       "\\begin{tabular}{llllllllll}\n",
       " X1 & X2 & X3 & X4 & X5 & X6 & X7 & X8 & X9 & X10\\\\\n",
       " <dbl> & <dbl> & <dbl> & <dbl> & <dbl> & <dbl> & <dbl> & <dbl> & <dbl> & <dbl>\\\\\n",
       "\\hline\n",
       "\t 0.03498919 & 0.04554414 & 0.05071982 & 0.06476757 & 0.08671532 & 0.111864 & 0.1283586 & 0.1498324 & 0.2134919 & 0.2510216\\\\\n",
       "\\end{tabular}\n"
      ],
      "text/markdown": [
       "\n",
       "A data.frame: 1 × 10\n",
       "\n",
       "| X1 &lt;dbl&gt; | X2 &lt;dbl&gt; | X3 &lt;dbl&gt; | X4 &lt;dbl&gt; | X5 &lt;dbl&gt; | X6 &lt;dbl&gt; | X7 &lt;dbl&gt; | X8 &lt;dbl&gt; | X9 &lt;dbl&gt; | X10 &lt;dbl&gt; |\n",
       "|---|---|---|---|---|---|---|---|---|---|\n",
       "| 0.03498919 | 0.04554414 | 0.05071982 | 0.06476757 | 0.08671532 | 0.111864 | 0.1283586 | 0.1498324 | 0.2134919 | 0.2510216 |\n",
       "\n"
      ],
      "text/plain": [
       "  X1         X2         X3         X4         X5         X6       X7       \n",
       "1 0.03498919 0.04554414 0.05071982 0.06476757 0.08671532 0.111864 0.1283586\n",
       "  X8        X9        X10      \n",
       "1 0.1498324 0.2134919 0.2510216"
      ]
     },
     "metadata": {},
     "output_type": "display_data"
    }
   ],
   "source": [
    "mine_10_band_mean <- sonar_set |>\n",
    "    filter(type == \"M\")|>\n",
    "    select(X1:X10) |>\n",
    "    map(mean) |>\n",
    "    data.frame()\n",
    "mine_10_band_mean"
   ]
  },
  {
   "cell_type": "markdown",
   "id": "307d7f6c-04dc-42b1-b26e-9bc875ea0b6d",
   "metadata": {},
   "source": [
    "- First we matched the number of all the rocks and mines with the descriptions; matches\n",
    "- We checked for empty cells in column; no empty cells\n",
    "- Mean of first 10 band of each type; both have an increasing trend but stronger in mines\n",
    "\n",
    "Further exploration through visualizations"
   ]
  },
  {
   "cell_type": "markdown",
   "id": "8fc6fc3c-cfe5-4012-91fa-661af7bb481f",
   "metadata": {},
   "source": [
    "### Exploratory data analysis (visual)"
   ]
  },
  {
   "cell_type": "markdown",
   "id": "4e078a13-d9a7-4cdb-9c67-e4ce625c5b33",
   "metadata": {},
   "source": [
    "all mean line graph\n"
   ]
  },
  {
   "cell_type": "code",
   "execution_count": 33,
   "id": "4da23283-2620-4300-9e86-b2161034be30",
   "metadata": {},
   "outputs": [
    {
     "data": {
      "image/png": "[encoded data removed]",
      "text/plain": [
       "plot without title"
      ]
     },
     "metadata": {
      "image/png": {
       "height": 420,
       "width": 780
      }
     },
     "output_type": "display_data"
    }
   ],
   "source": [
    "options(repr.plot.width = 13) \n",
    "rock_mean <- sonar_set |>\n",
    "    filter(type == \"R\")|>\n",
    "    select(-type) |>\n",
    "    map(mean) |>\n",
    "    data.frame()\n",
    "rock_mean[\"type\"] <- c(\"R\")\n",
    "mine_mean <- sonar_set |>\n",
    "    filter(type == \"M\")|>\n",
    "    select(-type) |>\n",
    "    map(mean) |>\n",
    "    data.frame()\n",
    "mine_mean[\"type\"] <- c(\"M\")\n",
    "\n",
    "plot_data <- rbind(rock_mean, mine_mean) |>\n",
    "    pivot_longer(X1:X60, names_to = \"band\", values_to = \"value\")\n",
    "# plot_data\n",
    "\n",
    "mean_plot <- plot_data |>\n",
    "    ggplot(aes(x = band, y = value, color = as_factor(type))) +\n",
    "    geom_point() + \n",
    "    facet_grid(cols = vars(type), labeller = as_labeller(c(M = \"Mine\", R = \"Rock\"))) +\n",
    "    labs(x = \"Band(in order)\", y = \"Average Value(0.0 to 1.0)\", color = \"Legend\") +\n",
    "    ylim(0.0, 1.0)+\n",
    "    theme(axis.text.x=element_blank(),\n",
    "        axis.ticks.x=element_blank(), \n",
    "        text = element_text(size=20))\n",
    "mean_plot"
   ]
  },
  {
   "cell_type": "markdown",
   "id": "012a0e8d-a346-4b50-bcc0-72209c52dbd1",
   "metadata": {},
   "source": [
    "## remove this cell\n",
    "\n",
    "- Using only training data, summarize the data in at least one table (this is exploratory data analysis). An example of a useful table could be one that reports the number of observations in each class, the means of the predictor variables you plan to use in your analysis and how many rows have missing data. \n",
    "\n",
    "- Using only training data, visualize the data with at least one plot relevant to the analysis you plan to do (this is exploratory data analysis). An example of a useful visualization could be one that compares the distributions of each of the predictor variables you plan to use in your analysis."
   ]
  },
  {
   "cell_type": "markdown",
   "id": "9dbf0b77-f2a0-41ad-8fb7-606b158eb4f4",
   "metadata": {},
   "source": [
    "## Methods"
   ]
  },
  {
   "cell_type": "markdown",
   "id": "b70aed4e-6f9a-4c04-8611-ed17b95cd568",
   "metadata": {},
   "source": []
  },
  {
   "cell_type": "markdown",
   "id": "09476b34-521d-49b3-bfaf-ab04d65f954c",
   "metadata": {},
   "source": [
    "## Expected outcome and significance\n",
    "\n",
    "- What do you expect to find?\n",
    "- What impact could such findings have?\n",
    "- What future questions could this lead to?"
   ]
  }
 ],
 "metadata": {
  "kernelspec": {
   "display_name": "R",
   "language": "R",
   "name": "ir"
  },
  "language_info": {
   "codemirror_mode": "r",
   "file_extension": ".r",
   "mimetype": "text/x-r-source",
   "name": "R",
   "pygments_lexer": "r",
   "version": "4.1.3"
  }
 },
 "nbformat": 4,
 "nbformat_minor": 5
}

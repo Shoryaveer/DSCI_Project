{
 "cells": [
  {
   "cell_type": "markdown",
   "id": "574c96ee-b81b-43ca-b27c-047e4940e59f",
   "metadata": {},
   "source": [
    "# <center>Proposal</center>"
   ]
  },
  {
   "cell_type": "markdown",
   "id": "ac209de6-2ecf-4f51-ad62-9b5e84f50c55",
   "metadata": {},
   "source": [
    "## Title"
   ]
  },
  {
   "cell_type": "markdown",
   "id": "dfb92fc8-9178-4aaa-b82a-10ff16b47593",
   "metadata": {},
   "source": [
    "## Introduction"
   ]
  },
  {
   "cell_type": "markdown",
   "id": "277c4e7b-8c67-4cdb-81e5-0741a15fda9c",
   "metadata": {},
   "source": []
  },
  {
   "cell_type": "markdown",
   "id": "809603c4-e90b-4937-9190-bfb3812e728b",
   "metadata": {},
   "source": [
    "## Preliminary exploratory data analysis:"
   ]
  },
  {
   "cell_type": "markdown",
   "id": "32603e88-23b3-406d-b676-0bd1750fe242",
   "metadata": {},
   "source": []
  },
  {
   "cell_type": "markdown",
   "id": "55a24abd-44d8-45ae-91ee-f4082620d902",
   "metadata": {},
   "source": []
  },
  {
   "cell_type": "markdown",
   "id": "9dbf0b77-f2a0-41ad-8fb7-606b158eb4f4",
   "metadata": {},
   "source": [
    "## Methods"
   ]
  },
  {
   "cell_type": "markdown",
   "id": "b70aed4e-6f9a-4c04-8611-ed17b95cd568",
   "metadata": {},
   "source": []
  },
  {
   "cell_type": "markdown",
   "id": "09476b34-521d-49b3-bfaf-ab04d65f954c",
   "metadata": {},
   "source": [
    "## Expected outcome and significance\n",
    "\n",
    "- What do you expect to find?\n",
    "- What impact could such findings have?\n",
    "- What future questions could this lead to?"
   ]
  }
 ],
 "metadata": {
  "kernelspec": {
   "display_name": "R",
   "language": "R",
   "name": "ir"
  },
  "language_info": {
   "codemirror_mode": "r",
   "file_extension": ".r",
   "mimetype": "text/x-r-source",
   "name": "R",
   "pygments_lexer": "r",
   "version": "4.1.3"
  }
 },
 "nbformat": 4,
 "nbformat_minor": 5
}
